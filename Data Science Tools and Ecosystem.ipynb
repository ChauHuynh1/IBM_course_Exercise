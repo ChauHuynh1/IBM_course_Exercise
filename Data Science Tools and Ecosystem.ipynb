{
 "cells": [
  {
   "cell_type": "markdown",
   "id": "ac87716b-1278-47f9-bec9-42d8f7c4d591",
   "metadata": {},
   "source": [
    "<h1><strong>Data Science Tools and Ecosystem</strong>:</h1>"
   ]
  },
  {
   "cell_type": "markdown",
   "id": "c385cc76",
   "metadata": {},
   "source": [
    "Hi, I am Nguyen Dang Huynh Chau. In this notebook, Data Science Tools and Ecosystem are summarized."
   ]
  },
  {
   "cell_type": "markdown",
   "id": "3c957deb-56d8-43b4-9ab9-7f5efea83c17",
   "metadata": {},
   "source": [
    "Some of the popular languages that Data Scientists use are:\n",
    "\n",
    "1. **Python**: Python is the most widely used language in data science due to its simplicity, readability, and extensive library support. Libraries such as Pandas, NumPy, SciPy, Scikit-learn, and TensorFlow make it a versatile tool for data manipulation, analysis, and machine learning.\n",
    "\n",
    "2. **R**: R is specifically designed for statistical analysis and data visualization. It has a strong ecosystem with packages like ggplot2, dplyr, and caret, making it a favorite among statisticians and data analysts for exploring and modeling data.\n",
    "\n",
    "3. **SQL**: SQL (Structured Query Language) is essential for managing and querying large databases. It allows data scientists to retrieve, manipulate, and analyze data stored in relational databases, ensuring efficient data management and access.\n",
    "\n",
    "4. **Julia**: Julia is gaining popularity for its high performance in numerical and scientific computing. It combines the ease of Python with the speed of C, making it ideal for handling large datasets and complex mathematical computations.\n",
    "\n",
    "5. **Scala**: Scala, particularly when used with Apache Spark, is powerful for big data processing. Its ability to handle concurrent programming and its integration with Java libraries make it suitable for scalable data science solutions."
   ]
  },
  {
   "cell_type": "markdown",
   "id": "5c211684-5f77-4c28-bd23-590a3ab0b368",
   "metadata": {},
   "source": [
    "Some of the commonly used libraries used by Data Scientists include:\n",
    "\n",
    "1. **Pandas**: Pandas is a powerful data manipulation and analysis library for Python. It provides data structures like DataFrames and Series, which make it easy to handle and analyze structured data.\n",
    "\n",
    "2. **NumPy**: NumPy is the fundamental package for numerical computing in Python. It offers support for large, multi-dimensional arrays and matrices, along with a collection of mathematical functions to operate on these arrays.\n",
    "\n",
    "3. **Scikit-learn**: Scikit-learn is a popular machine learning library in Python. It provides simple and efficient tools for data mining and data analysis, including various classification, regression, clustering, and dimensionality reduction algorithms.\n",
    "\n",
    "4. **TensorFlow**: TensorFlow is an open-source library for machine learning and deep learning developed by Google. It offers flexible and comprehensive tools, libraries, and community resources to build and deploy machine learning models.\n",
    "\n",
    "5. **Matplotlib**: Matplotlib is a widely-used plotting library in Python. It provides an object-oriented API for embedding plots into applications and is highly customizable for creating static, animated, and interactive visualizations."
   ]
  },
  {
   "cell_type": "markdown",
   "id": "841bc674",
   "metadata": {},
   "source": [
    "| **Data Science Tools**            |\n",
    "|-----------------------------------|\n",
    "| Jupyter Notebook                  |\n",
    "| RStudio                           |\n",
    "| Apache Zeppelin                   |"
   ]
  },
  {
   "cell_type": "markdown",
   "id": "0ff5d698-28c6-4af7-9fbf-3c8aeac5c162",
   "metadata": {},
   "source": [
    "### Below are a few examples of evaluating arithmetic expressions in Python."
   ]
  },
  {
   "cell_type": "code",
   "execution_count": 1,
   "id": "1b0019a7-0338-4d65-863d-3a35f0ca72ff",
   "metadata": {},
   "outputs": [
    {
     "data": {
      "text/plain": [
       "17"
      ]
     },
     "execution_count": 1,
     "metadata": {},
     "output_type": "execute_result"
    }
   ],
   "source": [
    "# This is a simple arithmetic expression to multiply then add integers\n",
    "(3 * 4) + 5"
   ]
  },
  {
   "cell_type": "code",
   "execution_count": 2,
   "id": "ee49c688-2610-4a78-8947-d12f976e940a",
   "metadata": {},
   "outputs": [
    {
     "data": {
      "text/plain": [
       "3.3333333333333335"
      ]
     },
     "execution_count": 2,
     "metadata": {},
     "output_type": "execute_result"
    }
   ],
   "source": [
    "# This will convert 200 minutes to hours by dividing by 60\n",
    "200 / 60"
   ]
  },
  {
   "cell_type": "markdown",
   "id": "b79347c8",
   "metadata": {},
   "source": [
    "**Objectives:**\n",
    "\n",
    "- List popular languages for Data Science\n",
    "- Identify commonly used libraries in data science\n",
    "- Understand various data science tools and development environments\n",
    "- Evaluate arithmetic expressions in Python\n",
    "- Convert time units from minutes to hours"
   ]
  },
  {
   "cell_type": "markdown",
   "id": "ee566760-e4a1-4439-baf6-5e54e551929f",
   "metadata": {},
   "source": [
    "# Author\n",
    "*********************\n",
    "Nguyen Dang Huynh Chau"
   ]
  }
 ],
 "metadata": {
  "kernelspec": {
   "display_name": "Python 3 (ipykernel)",
   "language": "python",
   "name": "python3"
  },
  "language_info": {
   "codemirror_mode": {
    "name": "ipython",
    "version": 3
   },
   "file_extension": ".py",
   "mimetype": "text/x-python",
   "name": "python",
   "nbconvert_exporter": "python",
   "pygments_lexer": "ipython3",
   "version": "3.10.10"
  }
 },
 "nbformat": 4,
 "nbformat_minor": 5
}
